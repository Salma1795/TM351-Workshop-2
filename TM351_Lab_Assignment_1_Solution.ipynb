{
 "cells": [
  {
   "cell_type": "markdown",
   "metadata": {
    "id": "5pz23N2QyXOU"
   },
   "source": [
    "# Lab Assignment 1\n",
    "Python Libraries: NumPy & Pandas\n",
    "\n"
   ]
  },
  {
   "cell_type": "markdown",
   "metadata": {
    "id": "0lXN_9XVzDMM"
   },
   "source": [
    "**Objective:** This lab assignment will help you gain experience with two essential libraries in Python: NumPy and Pandas. You’ll practice creating and manipulating arrays with NumPy and importing, selecting, and manipulating data with Pandas.\n"
   ]
  },
  {
   "cell_type": "markdown",
   "metadata": {
    "id": "LzUggdKKzHO0"
   },
   "source": [
    "**Instructions:**\n",
    "\n",
    "1. Follow the tasks listed below.\n",
    "2. Write your code in the provided cells under each task.\n",
    "3. When you have completed the assignment, go to File => Download.ipynb to save your notebook\n",
    "4. Submit your assignment via email following the submission guidelines below.\n",
    "\n"
   ]
  },
  {
   "cell_type": "markdown",
   "metadata": {
    "id": "MvLnLq-R0OU8"
   },
   "source": [
    "## **Numpy**"
   ]
  },
  {
   "cell_type": "markdown",
   "metadata": {
    "id": "Cy1CEMcXDhL9"
   },
   "source": [
    "### Formula Sheet for NumPy Library\n",
    "\n",
    "Arrays are another name for lists\n",
    "\n",
    "1.   **Creating an array of zeros:** np.zeros(shape)\n",
    "2.   **Creating an array of ones:** np.ones(shape)\n",
    "3.   **Creating an array of numbers:** np.arange(start, end, jump)\n",
    "4.   **Reshaping an array:** array.reshape(new_shape)\n",
    "5.   **Slicing an array:** array[start:stop]\n",
    "6.   **Getting the shape of an array:** np.shape(array)"
   ]
  },
  {
   "cell_type": "code",
   "execution_count": 1,
   "metadata": {
    "id": "7cKlmZyfuCog"
   },
   "outputs": [],
   "source": [
    "import numpy as np"
   ]
  },
  {
   "cell_type": "markdown",
   "metadata": {
    "id": "Qpxliuam0pnD"
   },
   "source": [
    "1. Create two 1D Numpy Lists.\n",
    "\n",
    "*   *list1* is a list of numbers from 0 to 10\n",
    "*   *list2* is a list of 10 zeros\n",
    "\n"
   ]
  },
  {
   "cell_type": "code",
   "execution_count": 6,
   "metadata": {
    "id": "efhJoylAyqec"
   },
   "outputs": [
    {
     "data": {
      "text/plain": [
       "array([0, 1, 2, 3, 4, 5, 6, 7, 8, 9])"
      ]
     },
     "execution_count": 6,
     "metadata": {},
     "output_type": "execute_result"
    }
   ],
   "source": [
    "list1 = np.arange(0,10,1)\n",
    "list1"
   ]
  },
  {
   "cell_type": "code",
   "execution_count": 7,
   "metadata": {},
   "outputs": [
    {
     "data": {
      "text/plain": [
       "array([0., 0., 0., 0., 0., 0., 0., 0., 0., 0.])"
      ]
     },
     "execution_count": 7,
     "metadata": {},
     "output_type": "execute_result"
    }
   ],
   "source": [
    "list2 = np.zeros(10)\n",
    "list2"
   ]
  },
  {
   "cell_type": "markdown",
   "metadata": {
    "id": "Z4lEHSBJ036P"
   },
   "source": [
    "2. Combine these lists into one lists called *list3*"
   ]
  },
  {
   "cell_type": "code",
   "execution_count": 8,
   "metadata": {
    "id": "C57PFSK31NnK"
   },
   "outputs": [
    {
     "data": {
      "text/plain": [
       "array([0., 1., 2., 3., 4., 5., 6., 7., 8., 9.])"
      ]
     },
     "execution_count": 8,
     "metadata": {},
     "output_type": "execute_result"
    }
   ],
   "source": [
    "list3 = list1 + list2\n",
    "list3"
   ]
  },
  {
   "cell_type": "markdown",
   "metadata": {
    "id": "EhkGPYIC1N-q"
   },
   "source": [
    "3. From *list3*, create a new array that includes elements from the 5th to 9th position."
   ]
  },
  {
   "cell_type": "code",
   "execution_count": 9,
   "metadata": {
    "id": "8heakR4Q1YCK"
   },
   "outputs": [
    {
     "data": {
      "text/plain": [
       "array([5., 6., 7., 8.])"
      ]
     },
     "execution_count": 9,
     "metadata": {},
     "output_type": "execute_result"
    }
   ],
   "source": [
    "list3[5:9]"
   ]
  },
  {
   "cell_type": "markdown",
   "metadata": {
    "id": "Jje62YzY1iVj"
   },
   "source": [
    "4. Change the shape of *list3* to become a 5x2 2D array"
   ]
  },
  {
   "cell_type": "code",
   "execution_count": 10,
   "metadata": {
    "id": "K3FWuZUj1ufD"
   },
   "outputs": [
    {
     "data": {
      "text/plain": [
       "array([[0., 1.],\n",
       "       [2., 3.],\n",
       "       [4., 5.],\n",
       "       [6., 7.],\n",
       "       [8., 9.]])"
      ]
     },
     "execution_count": 10,
     "metadata": {},
     "output_type": "execute_result"
    }
   ],
   "source": [
    "list3.reshape(5,2)"
   ]
  },
  {
   "cell_type": "markdown",
   "metadata": {
    "id": "o2KYqHcrC8Rk"
   },
   "source": [
    "5. Print the shape of this the following 2D array: *list4*"
   ]
  },
  {
   "cell_type": "code",
   "execution_count": 13,
   "metadata": {
    "id": "OECQUcoMDQhT"
   },
   "outputs": [
    {
     "data": {
      "text/plain": [
       "(3, 3)"
      ]
     },
     "execution_count": 13,
     "metadata": {},
     "output_type": "execute_result"
    }
   ],
   "source": [
    "list4 = [[1,2,3],[4,5,6],[7,8,9]]\n",
    "\n",
    "np.shape(list4)"
   ]
  },
  {
   "cell_type": "markdown",
   "metadata": {
    "id": "T7_zqZWWFK-d"
   },
   "source": [
    "## **Pandas**"
   ]
  },
  {
   "cell_type": "markdown",
   "metadata": {
    "id": "rJUE8NQxFSj6"
   },
   "source": [
    "### Formula Sheet for NumPy Library\n",
    "1. **Importing a CSV file:** pd.read_csv('file_path')\n",
    "2. **Displaying first n rows:** table.head(n)\n",
    "3. **Selecting a column:** table['column_name']\n",
    "4. **Changing a DataFrame value:** table.loc[row_index, 'column_name'] = new_value"
   ]
  },
  {
   "cell_type": "code",
   "execution_count": 14,
   "metadata": {
    "id": "2rsf_cLEIsk4"
   },
   "outputs": [],
   "source": [
    "import pandas as pd"
   ]
  },
  {
   "cell_type": "markdown",
   "metadata": {
    "id": "OKVPau50FysH"
   },
   "source": [
    "1. Import the *salary.csv* file"
   ]
  },
  {
   "cell_type": "code",
   "execution_count": 15,
   "metadata": {
    "id": "jM5gKrR6I5yz"
   },
   "outputs": [
    {
     "data": {
      "text/html": [
       "<div>\n",
       "<style scoped>\n",
       "    .dataframe tbody tr th:only-of-type {\n",
       "        vertical-align: middle;\n",
       "    }\n",
       "\n",
       "    .dataframe tbody tr th {\n",
       "        vertical-align: top;\n",
       "    }\n",
       "\n",
       "    .dataframe thead th {\n",
       "        text-align: right;\n",
       "    }\n",
       "</style>\n",
       "<table border=\"1\" class=\"dataframe\">\n",
       "  <thead>\n",
       "    <tr style=\"text-align: right;\">\n",
       "      <th></th>\n",
       "      <th>Unnamed: 0</th>\n",
       "      <th>District</th>\n",
       "      <th>Salary</th>\n",
       "      <th>Age</th>\n",
       "      <th>English</th>\n",
       "      <th>Education</th>\n",
       "      <th>Gender</th>\n",
       "    </tr>\n",
       "  </thead>\n",
       "  <tbody>\n",
       "    <tr>\n",
       "      <th>0</th>\n",
       "      <td>0</td>\n",
       "      <td>Brooklyn</td>\n",
       "      <td>120000.0</td>\n",
       "      <td>31</td>\n",
       "      <td>Only language</td>\n",
       "      <td>Academic degree</td>\n",
       "      <td>Male</td>\n",
       "    </tr>\n",
       "    <tr>\n",
       "      <th>1</th>\n",
       "      <td>1</td>\n",
       "      <td>Brooklyn</td>\n",
       "      <td>45000.0</td>\n",
       "      <td>28</td>\n",
       "      <td>Only language</td>\n",
       "      <td>Academic degree</td>\n",
       "      <td>Female</td>\n",
       "    </tr>\n",
       "    <tr>\n",
       "      <th>2</th>\n",
       "      <td>2</td>\n",
       "      <td>Manhatten</td>\n",
       "      <td>85000.0</td>\n",
       "      <td>54</td>\n",
       "      <td>Only language</td>\n",
       "      <td>Academic degree</td>\n",
       "      <td>Male</td>\n",
       "    </tr>\n",
       "    <tr>\n",
       "      <th>3</th>\n",
       "      <td>3</td>\n",
       "      <td>Manhatten</td>\n",
       "      <td>12000.0</td>\n",
       "      <td>45</td>\n",
       "      <td>Only language</td>\n",
       "      <td>High school diploma</td>\n",
       "      <td>Female</td>\n",
       "    </tr>\n",
       "    <tr>\n",
       "      <th>4</th>\n",
       "      <td>4</td>\n",
       "      <td>Brooklyn</td>\n",
       "      <td>0.0</td>\n",
       "      <td>75</td>\n",
       "      <td>Very well</td>\n",
       "      <td>Academic degree</td>\n",
       "      <td>Female</td>\n",
       "    </tr>\n",
       "    <tr>\n",
       "      <th>...</th>\n",
       "      <td>...</td>\n",
       "      <td>...</td>\n",
       "      <td>...</td>\n",
       "      <td>...</td>\n",
       "      <td>...</td>\n",
       "      <td>...</td>\n",
       "      <td>...</td>\n",
       "    </tr>\n",
       "    <tr>\n",
       "      <th>59432</th>\n",
       "      <td>59432</td>\n",
       "      <td>Brooklyn</td>\n",
       "      <td>0.0</td>\n",
       "      <td>35</td>\n",
       "      <td>Very well</td>\n",
       "      <td>No diploma</td>\n",
       "      <td>Female</td>\n",
       "    </tr>\n",
       "    <tr>\n",
       "      <th>59433</th>\n",
       "      <td>59433</td>\n",
       "      <td>Queens</td>\n",
       "      <td>0.0</td>\n",
       "      <td>89</td>\n",
       "      <td>Only language</td>\n",
       "      <td>No diploma</td>\n",
       "      <td>Female</td>\n",
       "    </tr>\n",
       "    <tr>\n",
       "      <th>59434</th>\n",
       "      <td>59434</td>\n",
       "      <td>Bronx</td>\n",
       "      <td>0.0</td>\n",
       "      <td>34</td>\n",
       "      <td>Only language</td>\n",
       "      <td>No diploma</td>\n",
       "      <td>Male</td>\n",
       "    </tr>\n",
       "    <tr>\n",
       "      <th>59435</th>\n",
       "      <td>59435</td>\n",
       "      <td>Manhatten</td>\n",
       "      <td>0.0</td>\n",
       "      <td>61</td>\n",
       "      <td>Only language</td>\n",
       "      <td>No diploma</td>\n",
       "      <td>Female</td>\n",
       "    </tr>\n",
       "    <tr>\n",
       "      <th>59436</th>\n",
       "      <td>59436</td>\n",
       "      <td>Bronx</td>\n",
       "      <td>21000.0</td>\n",
       "      <td>25</td>\n",
       "      <td>Only language</td>\n",
       "      <td>High school diploma</td>\n",
       "      <td>Male</td>\n",
       "    </tr>\n",
       "  </tbody>\n",
       "</table>\n",
       "<p>59437 rows × 7 columns</p>\n",
       "</div>"
      ],
      "text/plain": [
       "       Unnamed: 0   District    Salary  Age        English  \\\n",
       "0               0   Brooklyn  120000.0   31  Only language   \n",
       "1               1   Brooklyn   45000.0   28  Only language   \n",
       "2               2  Manhatten   85000.0   54  Only language   \n",
       "3               3  Manhatten   12000.0   45  Only language   \n",
       "4               4   Brooklyn       0.0   75      Very well   \n",
       "...           ...        ...       ...  ...            ...   \n",
       "59432       59432   Brooklyn       0.0   35      Very well   \n",
       "59433       59433     Queens       0.0   89  Only language   \n",
       "59434       59434      Bronx       0.0   34  Only language   \n",
       "59435       59435  Manhatten       0.0   61  Only language   \n",
       "59436       59436      Bronx   21000.0   25  Only language   \n",
       "\n",
       "                 Education  Gender  \n",
       "0          Academic degree    Male  \n",
       "1          Academic degree  Female  \n",
       "2          Academic degree    Male  \n",
       "3      High school diploma  Female  \n",
       "4          Academic degree  Female  \n",
       "...                    ...     ...  \n",
       "59432           No diploma  Female  \n",
       "59433           No diploma  Female  \n",
       "59434           No diploma    Male  \n",
       "59435           No diploma  Female  \n",
       "59436  High school diploma    Male  \n",
       "\n",
       "[59437 rows x 7 columns]"
      ]
     },
     "execution_count": 15,
     "metadata": {},
     "output_type": "execute_result"
    }
   ],
   "source": [
    "df = pd.read_csv(\"Downloads\\salary.csv\")\n",
    "df"
   ]
  },
  {
   "cell_type": "markdown",
   "metadata": {
    "id": "4lJwacSFI6Kv"
   },
   "source": [
    "2. Display the first 10 rows of the table"
   ]
  },
  {
   "cell_type": "code",
   "execution_count": 16,
   "metadata": {
    "id": "MtuBL3ApI-pO"
   },
   "outputs": [
    {
     "data": {
      "text/html": [
       "<div>\n",
       "<style scoped>\n",
       "    .dataframe tbody tr th:only-of-type {\n",
       "        vertical-align: middle;\n",
       "    }\n",
       "\n",
       "    .dataframe tbody tr th {\n",
       "        vertical-align: top;\n",
       "    }\n",
       "\n",
       "    .dataframe thead th {\n",
       "        text-align: right;\n",
       "    }\n",
       "</style>\n",
       "<table border=\"1\" class=\"dataframe\">\n",
       "  <thead>\n",
       "    <tr style=\"text-align: right;\">\n",
       "      <th></th>\n",
       "      <th>Unnamed: 0</th>\n",
       "      <th>District</th>\n",
       "      <th>Salary</th>\n",
       "      <th>Age</th>\n",
       "      <th>English</th>\n",
       "      <th>Education</th>\n",
       "      <th>Gender</th>\n",
       "    </tr>\n",
       "  </thead>\n",
       "  <tbody>\n",
       "    <tr>\n",
       "      <th>0</th>\n",
       "      <td>0</td>\n",
       "      <td>Brooklyn</td>\n",
       "      <td>120000.0</td>\n",
       "      <td>31</td>\n",
       "      <td>Only language</td>\n",
       "      <td>Academic degree</td>\n",
       "      <td>Male</td>\n",
       "    </tr>\n",
       "    <tr>\n",
       "      <th>1</th>\n",
       "      <td>1</td>\n",
       "      <td>Brooklyn</td>\n",
       "      <td>45000.0</td>\n",
       "      <td>28</td>\n",
       "      <td>Only language</td>\n",
       "      <td>Academic degree</td>\n",
       "      <td>Female</td>\n",
       "    </tr>\n",
       "    <tr>\n",
       "      <th>2</th>\n",
       "      <td>2</td>\n",
       "      <td>Manhatten</td>\n",
       "      <td>85000.0</td>\n",
       "      <td>54</td>\n",
       "      <td>Only language</td>\n",
       "      <td>Academic degree</td>\n",
       "      <td>Male</td>\n",
       "    </tr>\n",
       "    <tr>\n",
       "      <th>3</th>\n",
       "      <td>3</td>\n",
       "      <td>Manhatten</td>\n",
       "      <td>12000.0</td>\n",
       "      <td>45</td>\n",
       "      <td>Only language</td>\n",
       "      <td>High school diploma</td>\n",
       "      <td>Female</td>\n",
       "    </tr>\n",
       "    <tr>\n",
       "      <th>4</th>\n",
       "      <td>4</td>\n",
       "      <td>Brooklyn</td>\n",
       "      <td>0.0</td>\n",
       "      <td>75</td>\n",
       "      <td>Very well</td>\n",
       "      <td>Academic degree</td>\n",
       "      <td>Female</td>\n",
       "    </tr>\n",
       "    <tr>\n",
       "      <th>5</th>\n",
       "      <td>5</td>\n",
       "      <td>Manhatten</td>\n",
       "      <td>225000.0</td>\n",
       "      <td>47</td>\n",
       "      <td>Very well</td>\n",
       "      <td>Academic degree</td>\n",
       "      <td>Male</td>\n",
       "    </tr>\n",
       "    <tr>\n",
       "      <th>6</th>\n",
       "      <td>6</td>\n",
       "      <td>Brooklyn</td>\n",
       "      <td>55000.0</td>\n",
       "      <td>37</td>\n",
       "      <td>Only language</td>\n",
       "      <td>Academic degree</td>\n",
       "      <td>Female</td>\n",
       "    </tr>\n",
       "    <tr>\n",
       "      <th>7</th>\n",
       "      <td>7</td>\n",
       "      <td>Brooklyn</td>\n",
       "      <td>50000.0</td>\n",
       "      <td>37</td>\n",
       "      <td>Only language</td>\n",
       "      <td>Academic degree</td>\n",
       "      <td>Male</td>\n",
       "    </tr>\n",
       "    <tr>\n",
       "      <th>8</th>\n",
       "      <td>8</td>\n",
       "      <td>Brooklyn</td>\n",
       "      <td>37000.0</td>\n",
       "      <td>34</td>\n",
       "      <td>Only language</td>\n",
       "      <td>Academic degree</td>\n",
       "      <td>Female</td>\n",
       "    </tr>\n",
       "    <tr>\n",
       "      <th>9</th>\n",
       "      <td>9</td>\n",
       "      <td>Brooklyn</td>\n",
       "      <td>65000.0</td>\n",
       "      <td>34</td>\n",
       "      <td>Only language</td>\n",
       "      <td>High school diploma</td>\n",
       "      <td>Male</td>\n",
       "    </tr>\n",
       "  </tbody>\n",
       "</table>\n",
       "</div>"
      ],
      "text/plain": [
       "   Unnamed: 0   District    Salary  Age        English            Education  \\\n",
       "0           0   Brooklyn  120000.0   31  Only language      Academic degree   \n",
       "1           1   Brooklyn   45000.0   28  Only language      Academic degree   \n",
       "2           2  Manhatten   85000.0   54  Only language      Academic degree   \n",
       "3           3  Manhatten   12000.0   45  Only language  High school diploma   \n",
       "4           4   Brooklyn       0.0   75      Very well      Academic degree   \n",
       "5           5  Manhatten  225000.0   47      Very well      Academic degree   \n",
       "6           6   Brooklyn   55000.0   37  Only language      Academic degree   \n",
       "7           7   Brooklyn   50000.0   37  Only language      Academic degree   \n",
       "8           8   Brooklyn   37000.0   34  Only language      Academic degree   \n",
       "9           9   Brooklyn   65000.0   34  Only language  High school diploma   \n",
       "\n",
       "   Gender  \n",
       "0    Male  \n",
       "1  Female  \n",
       "2    Male  \n",
       "3  Female  \n",
       "4  Female  \n",
       "5    Male  \n",
       "6  Female  \n",
       "7    Male  \n",
       "8  Female  \n",
       "9    Male  "
      ]
     },
     "execution_count": 16,
     "metadata": {},
     "output_type": "execute_result"
    }
   ],
   "source": [
    "df.head(10)"
   ]
  },
  {
   "cell_type": "markdown",
   "metadata": {
    "id": "tMvCRjVhI-6j"
   },
   "source": [
    "3. Select the *Age* column and display it"
   ]
  },
  {
   "cell_type": "code",
   "execution_count": 17,
   "metadata": {
    "id": "PDizTBB2JDpn"
   },
   "outputs": [
    {
     "data": {
      "text/plain": [
       "0        31\n",
       "1        28\n",
       "2        54\n",
       "3        45\n",
       "4        75\n",
       "         ..\n",
       "59432    35\n",
       "59433    89\n",
       "59434    34\n",
       "59435    61\n",
       "59436    25\n",
       "Name: Age, Length: 59437, dtype: int64"
      ]
     },
     "execution_count": 17,
     "metadata": {},
     "output_type": "execute_result"
    }
   ],
   "source": [
    "df['Age']"
   ]
  },
  {
   "cell_type": "markdown",
   "metadata": {
    "id": "4wl-mm8NJD28"
   },
   "source": [
    "4. Change the 5th value in the *Gender* column."
   ]
  },
  {
   "cell_type": "code",
   "execution_count": 18,
   "metadata": {
    "id": "Ns9f6QS_rsc1"
   },
   "outputs": [],
   "source": [
    "df.loc[4,'Gender']='Male'"
   ]
  },
  {
   "cell_type": "code",
   "execution_count": 19,
   "metadata": {},
   "outputs": [
    {
     "data": {
      "text/html": [
       "<div>\n",
       "<style scoped>\n",
       "    .dataframe tbody tr th:only-of-type {\n",
       "        vertical-align: middle;\n",
       "    }\n",
       "\n",
       "    .dataframe tbody tr th {\n",
       "        vertical-align: top;\n",
       "    }\n",
       "\n",
       "    .dataframe thead th {\n",
       "        text-align: right;\n",
       "    }\n",
       "</style>\n",
       "<table border=\"1\" class=\"dataframe\">\n",
       "  <thead>\n",
       "    <tr style=\"text-align: right;\">\n",
       "      <th></th>\n",
       "      <th>Unnamed: 0</th>\n",
       "      <th>District</th>\n",
       "      <th>Salary</th>\n",
       "      <th>Age</th>\n",
       "      <th>English</th>\n",
       "      <th>Education</th>\n",
       "      <th>Gender</th>\n",
       "    </tr>\n",
       "  </thead>\n",
       "  <tbody>\n",
       "    <tr>\n",
       "      <th>0</th>\n",
       "      <td>0</td>\n",
       "      <td>Brooklyn</td>\n",
       "      <td>120000.0</td>\n",
       "      <td>31</td>\n",
       "      <td>Only language</td>\n",
       "      <td>Academic degree</td>\n",
       "      <td>Male</td>\n",
       "    </tr>\n",
       "    <tr>\n",
       "      <th>1</th>\n",
       "      <td>1</td>\n",
       "      <td>Brooklyn</td>\n",
       "      <td>45000.0</td>\n",
       "      <td>28</td>\n",
       "      <td>Only language</td>\n",
       "      <td>Academic degree</td>\n",
       "      <td>Female</td>\n",
       "    </tr>\n",
       "    <tr>\n",
       "      <th>2</th>\n",
       "      <td>2</td>\n",
       "      <td>Manhatten</td>\n",
       "      <td>85000.0</td>\n",
       "      <td>54</td>\n",
       "      <td>Only language</td>\n",
       "      <td>Academic degree</td>\n",
       "      <td>Male</td>\n",
       "    </tr>\n",
       "    <tr>\n",
       "      <th>3</th>\n",
       "      <td>3</td>\n",
       "      <td>Manhatten</td>\n",
       "      <td>12000.0</td>\n",
       "      <td>45</td>\n",
       "      <td>Only language</td>\n",
       "      <td>High school diploma</td>\n",
       "      <td>Female</td>\n",
       "    </tr>\n",
       "    <tr>\n",
       "      <th>4</th>\n",
       "      <td>4</td>\n",
       "      <td>Brooklyn</td>\n",
       "      <td>0.0</td>\n",
       "      <td>75</td>\n",
       "      <td>Very well</td>\n",
       "      <td>Academic degree</td>\n",
       "      <td>Male</td>\n",
       "    </tr>\n",
       "    <tr>\n",
       "      <th>...</th>\n",
       "      <td>...</td>\n",
       "      <td>...</td>\n",
       "      <td>...</td>\n",
       "      <td>...</td>\n",
       "      <td>...</td>\n",
       "      <td>...</td>\n",
       "      <td>...</td>\n",
       "    </tr>\n",
       "    <tr>\n",
       "      <th>59432</th>\n",
       "      <td>59432</td>\n",
       "      <td>Brooklyn</td>\n",
       "      <td>0.0</td>\n",
       "      <td>35</td>\n",
       "      <td>Very well</td>\n",
       "      <td>No diploma</td>\n",
       "      <td>Female</td>\n",
       "    </tr>\n",
       "    <tr>\n",
       "      <th>59433</th>\n",
       "      <td>59433</td>\n",
       "      <td>Queens</td>\n",
       "      <td>0.0</td>\n",
       "      <td>89</td>\n",
       "      <td>Only language</td>\n",
       "      <td>No diploma</td>\n",
       "      <td>Female</td>\n",
       "    </tr>\n",
       "    <tr>\n",
       "      <th>59434</th>\n",
       "      <td>59434</td>\n",
       "      <td>Bronx</td>\n",
       "      <td>0.0</td>\n",
       "      <td>34</td>\n",
       "      <td>Only language</td>\n",
       "      <td>No diploma</td>\n",
       "      <td>Male</td>\n",
       "    </tr>\n",
       "    <tr>\n",
       "      <th>59435</th>\n",
       "      <td>59435</td>\n",
       "      <td>Manhatten</td>\n",
       "      <td>0.0</td>\n",
       "      <td>61</td>\n",
       "      <td>Only language</td>\n",
       "      <td>No diploma</td>\n",
       "      <td>Female</td>\n",
       "    </tr>\n",
       "    <tr>\n",
       "      <th>59436</th>\n",
       "      <td>59436</td>\n",
       "      <td>Bronx</td>\n",
       "      <td>21000.0</td>\n",
       "      <td>25</td>\n",
       "      <td>Only language</td>\n",
       "      <td>High school diploma</td>\n",
       "      <td>Male</td>\n",
       "    </tr>\n",
       "  </tbody>\n",
       "</table>\n",
       "<p>59437 rows × 7 columns</p>\n",
       "</div>"
      ],
      "text/plain": [
       "       Unnamed: 0   District    Salary  Age        English  \\\n",
       "0               0   Brooklyn  120000.0   31  Only language   \n",
       "1               1   Brooklyn   45000.0   28  Only language   \n",
       "2               2  Manhatten   85000.0   54  Only language   \n",
       "3               3  Manhatten   12000.0   45  Only language   \n",
       "4               4   Brooklyn       0.0   75      Very well   \n",
       "...           ...        ...       ...  ...            ...   \n",
       "59432       59432   Brooklyn       0.0   35      Very well   \n",
       "59433       59433     Queens       0.0   89  Only language   \n",
       "59434       59434      Bronx       0.0   34  Only language   \n",
       "59435       59435  Manhatten       0.0   61  Only language   \n",
       "59436       59436      Bronx   21000.0   25  Only language   \n",
       "\n",
       "                 Education  Gender  \n",
       "0          Academic degree    Male  \n",
       "1          Academic degree  Female  \n",
       "2          Academic degree    Male  \n",
       "3      High school diploma  Female  \n",
       "4          Academic degree    Male  \n",
       "...                    ...     ...  \n",
       "59432           No diploma  Female  \n",
       "59433           No diploma  Female  \n",
       "59434           No diploma    Male  \n",
       "59435           No diploma  Female  \n",
       "59436  High school diploma    Male  \n",
       "\n",
       "[59437 rows x 7 columns]"
      ]
     },
     "execution_count": 19,
     "metadata": {},
     "output_type": "execute_result"
    }
   ],
   "source": [
    "df"
   ]
  },
  {
   "cell_type": "markdown",
   "metadata": {
    "id": "iNuAkuh5CfgT"
   },
   "source": [
    "**Submission Guidelines:**\n",
    "\n",
    "1.   You should strictly complete and send the assignment within 30 minutes\n",
    "2.   Compose an email to **s.abozid@aou.edu.eg**\n",
    "3.   The subject of the email should be: **Lab Assignment 1 - Your ID Number**\n",
    "4.   Attach your completed notebook (.ipynb file) to the email.\n",
    "5.   Send the email once you’re ready to submit"
   ]
  }
 ],
 "metadata": {
  "colab": {
   "provenance": []
  },
  "kernelspec": {
   "display_name": "Python 3 (ipykernel)",
   "language": "python",
   "name": "python3"
  },
  "language_info": {
   "codemirror_mode": {
    "name": "ipython",
    "version": 3
   },
   "file_extension": ".py",
   "mimetype": "text/x-python",
   "name": "python",
   "nbconvert_exporter": "python",
   "pygments_lexer": "ipython3",
   "version": "3.9.13"
  }
 },
 "nbformat": 4,
 "nbformat_minor": 1
}
