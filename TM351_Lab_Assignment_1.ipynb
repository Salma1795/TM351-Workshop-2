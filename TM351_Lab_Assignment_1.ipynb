{
 "cells": [
  {
   "cell_type": "markdown",
   "metadata": {
    "id": "5pz23N2QyXOU"
   },
   "source": [
    "# Lab Assignment 1\n",
    "Python Libraries: NumPy & Pandas\n",
    "\n"
   ]
  },
  {
   "cell_type": "markdown",
   "metadata": {
    "id": "0lXN_9XVzDMM"
   },
   "source": [
    "**Objective:** This lab assignment will help you gain experience with two essential libraries in Python: NumPy and Pandas. You’ll practice creating and manipulating arrays with NumPy and importing, selecting, and manipulating data with Pandas.\n"
   ]
  },
  {
   "cell_type": "markdown",
   "metadata": {
    "id": "LzUggdKKzHO0"
   },
   "source": [
    "**Instructions:**\n",
    "\n",
    "1. Follow the tasks listed below.\n",
    "2. Write your code in the provided cells under each task.\n",
    "3. When you have completed the assignment, go to File => Download.ipynb to save your notebook\n",
    "4. Submit your assignment via email following the submission guidelines below.\n",
    "\n"
   ]
  },
  {
   "cell_type": "markdown",
   "metadata": {
    "id": "MvLnLq-R0OU8"
   },
   "source": [
    "## **Numpy**"
   ]
  },
  {
   "cell_type": "markdown",
   "metadata": {
    "id": "Cy1CEMcXDhL9"
   },
   "source": [
    "### Formula Sheet for NumPy Library\n",
    "\n",
    "Arrays are another name for lists\n",
    "\n",
    "1.   **Creating an array of zeros:** np.zeros(shape)\n",
    "2.   **Creating an array of ones:** np.ones(shape)\n",
    "3.   **Creating an array of numbers:** np.arange(start, end, jump)\n",
    "4.   **Reshaping an array:** array.reshape(new_shape)\n",
    "5.   **Slicing an array:** array[start:stop]\n",
    "6.   **Getting the shape of an array:** np.shape(array)"
   ]
  },
  {
   "cell_type": "code",
   "execution_count": null,
   "metadata": {
    "id": "7cKlmZyfuCog"
   },
   "outputs": [],
   "source": [
    "import numpy as np"
   ]
  },
  {
   "cell_type": "markdown",
   "metadata": {
    "id": "Qpxliuam0pnD"
   },
   "source": [
    "1. Create two 1D Numpy Lists.\n",
    "\n",
    "*   *list1* is a list of numbers from 0 to 10\n",
    "*   *list2* is a list of 10 zeros\n",
    "\n"
   ]
  },
  {
   "cell_type": "code",
   "execution_count": null,
   "metadata": {
    "id": "efhJoylAyqec"
   },
   "outputs": [],
   "source": []
  },
  {
   "cell_type": "markdown",
   "metadata": {
    "id": "Z4lEHSBJ036P"
   },
   "source": [
    "2. Combine these lists into one lists called *list3*"
   ]
  },
  {
   "cell_type": "code",
   "execution_count": null,
   "metadata": {
    "id": "C57PFSK31NnK"
   },
   "outputs": [],
   "source": []
  },
  {
   "cell_type": "markdown",
   "metadata": {
    "id": "EhkGPYIC1N-q"
   },
   "source": [
    "3. From *list3*, create a new array that includes elements from the 5th to 9th position."
   ]
  },
  {
   "cell_type": "code",
   "execution_count": null,
   "metadata": {
    "id": "8heakR4Q1YCK"
   },
   "outputs": [],
   "source": []
  },
  {
   "cell_type": "markdown",
   "metadata": {
    "id": "Jje62YzY1iVj"
   },
   "source": [
    "4. Change the shape of *list3* to become a 5x2 2D array"
   ]
  },
  {
   "cell_type": "code",
   "execution_count": null,
   "metadata": {
    "id": "K3FWuZUj1ufD"
   },
   "outputs": [],
   "source": []
  },
  {
   "cell_type": "markdown",
   "metadata": {
    "id": "o2KYqHcrC8Rk"
   },
   "source": [
    "5. Print the shape of this the following 2D array: *list4*"
   ]
  },
  {
   "cell_type": "code",
   "execution_count": null,
   "metadata": {
    "id": "OECQUcoMDQhT"
   },
   "outputs": [],
   "source": [
    "list4 = [[1,2,3],[4,5,6],[7,8,9]]\n",
    "\n"
   ]
  },
  {
   "cell_type": "markdown",
   "metadata": {
    "id": "T7_zqZWWFK-d"
   },
   "source": [
    "## **Pandas**"
   ]
  },
  {
   "cell_type": "markdown",
   "metadata": {
    "id": "rJUE8NQxFSj6"
   },
   "source": [
    "### Formula Sheet for NumPy Library\n",
    "1. **Importing a CSV file:** pd.read_csv('file_path')\n",
    "2. **Displaying first n rows:** table.head(n)\n",
    "3. **Selecting a column:** table['column_name']\n",
    "4. **Changing a DataFrame value:** table.loc[row_index, 'column_name'] = new_value"
   ]
  },
  {
   "cell_type": "code",
   "execution_count": null,
   "metadata": {
    "id": "2rsf_cLEIsk4"
   },
   "outputs": [],
   "source": [
    "import pandas as pd"
   ]
  },
  {
   "cell_type": "markdown",
   "metadata": {
    "id": "OKVPau50FysH"
   },
   "source": [
    "1. Import the *salary.csv* file"
   ]
  },
  {
   "cell_type": "code",
   "execution_count": null,
   "metadata": {
    "id": "jM5gKrR6I5yz"
   },
   "outputs": [],
   "source": []
  },
  {
   "cell_type": "markdown",
   "metadata": {
    "id": "4lJwacSFI6Kv"
   },
   "source": [
    "2. Display the first 10 rows of the table"
   ]
  },
  {
   "cell_type": "code",
   "execution_count": null,
   "metadata": {
    "id": "MtuBL3ApI-pO"
   },
   "outputs": [],
   "source": []
  },
  {
   "cell_type": "markdown",
   "metadata": {
    "id": "tMvCRjVhI-6j"
   },
   "source": [
    "3. Select the *Age* column and display it"
   ]
  },
  {
   "cell_type": "code",
   "execution_count": null,
   "metadata": {
    "id": "PDizTBB2JDpn"
   },
   "outputs": [],
   "source": []
  },
  {
   "cell_type": "markdown",
   "metadata": {
    "id": "4wl-mm8NJD28"
   },
   "source": [
    "4. Change the 5th value in the *Gender* column."
   ]
  },
  {
   "cell_type": "code",
   "execution_count": null,
   "metadata": {
    "id": "Ns9f6QS_rsc1"
   },
   "outputs": [],
   "source": []
  },
  {
   "cell_type": "markdown",
   "metadata": {
    "id": "iNuAkuh5CfgT"
   },
   "source": [
    "**Submission Guidelines:**\n",
    "\n",
    "1.   You should strictly complete and send the assignment within 30 minutes\n",
    "2.   Compose an email to **s.abozid@aou.edu.eg**\n",
    "3.   The subject of the email should be: **Lab Assignment 1 - Your ID Number**\n",
    "4.   Attach your completed notebook (.ipynb file) to the email.\n",
    "5.   Send the email once you’re ready to submit"
   ]
  }
 ],
 "metadata": {
  "colab": {
   "provenance": []
  },
  "kernelspec": {
   "display_name": "Python 3 (ipykernel)",
   "language": "python",
   "name": "python3"
  },
  "language_info": {
   "codemirror_mode": {
    "name": "ipython",
    "version": 3
   },
   "file_extension": ".py",
   "mimetype": "text/x-python",
   "name": "python",
   "nbconvert_exporter": "python",
   "pygments_lexer": "ipython3",
   "version": "3.9.13"
  }
 },
 "nbformat": 4,
 "nbformat_minor": 1
}
