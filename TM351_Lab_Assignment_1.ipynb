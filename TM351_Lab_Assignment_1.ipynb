{
  "nbformat": 4,
  "nbformat_minor": 0,
  "metadata": {
    "colab": {
      "provenance": []
    },
    "kernelspec": {
      "name": "python3",
      "display_name": "Python 3"
    },
    "language_info": {
      "name": "python"
    }
  },
  "cells": [
    {
      "cell_type": "markdown",
      "source": [
        "# Lab Assignment 1\n",
        "Python Libraries: NumPy & Pandas\n",
        "\n"
      ],
      "metadata": {
        "id": "5pz23N2QyXOU"
      }
    },
    {
      "cell_type": "markdown",
      "source": [
        "**Objective:** This lab assignment will help you gain experience with two essential libraries in Python: NumPy and Pandas. You’ll practice creating and manipulating arrays with NumPy and importing, selecting, and manipulating data with Pandas.\n"
      ],
      "metadata": {
        "id": "0lXN_9XVzDMM"
      }
    },
    {
      "cell_type": "markdown",
      "source": [
        "**Instructions:**\n",
        "\n",
        "1. Follow the tasks listed below.\n",
        "2. Write your code in the provided cells under each task.\n",
        "3. When you have completed the assignment, go to File => Download.ipynb to save your notebook\n",
        "4. Submit your assignment via email following the submission guidelines below.\n",
        "\n"
      ],
      "metadata": {
        "id": "LzUggdKKzHO0"
      }
    },
    {
      "cell_type": "markdown",
      "source": [
        "## **Numpy**"
      ],
      "metadata": {
        "id": "MvLnLq-R0OU8"
      }
    },
    {
      "cell_type": "markdown",
      "source": [
        "### Formula Sheet for NumPy Library\n",
        "\n",
        "Arrays are another name for lists\n",
        "\n",
        "1.   **Creating an array of zeros:** np.zeros(shape)\n",
        "2.   **Creating an array of ones:** np.ones(shape)\n",
        "3.   **Creating an array of numbers:** np.arange(start, end, jump)\n",
        "4.   **Reshaping an array:** array.reshape(new_shape)\n",
        "5.   **Slicing an array:** array[start:stop]\n",
        "6.   **Getting the shape of an array:** array.shape"
      ],
      "metadata": {
        "id": "Cy1CEMcXDhL9"
      }
    },
    {
      "cell_type": "code",
      "execution_count": null,
      "metadata": {
        "id": "7cKlmZyfuCog"
      },
      "outputs": [],
      "source": [
        "import numpy as np"
      ]
    },
    {
      "cell_type": "markdown",
      "source": [
        "1. Create two 1D Numpy Lists.\n",
        "\n",
        "*   *list1* is a list of numbers from 0 to 10\n",
        "*   *list2* is a list of 10 zeros\n",
        "\n"
      ],
      "metadata": {
        "id": "Qpxliuam0pnD"
      }
    },
    {
      "cell_type": "code",
      "source": [],
      "metadata": {
        "id": "efhJoylAyqec"
      },
      "execution_count": null,
      "outputs": []
    },
    {
      "cell_type": "markdown",
      "source": [
        "2. Combine these lists into one lists called *list3*"
      ],
      "metadata": {
        "id": "Z4lEHSBJ036P"
      }
    },
    {
      "cell_type": "code",
      "source": [],
      "metadata": {
        "id": "C57PFSK31NnK"
      },
      "execution_count": null,
      "outputs": []
    },
    {
      "cell_type": "markdown",
      "source": [
        "3. From *list3*, create a new array that includes elements from the 5th to 15th position."
      ],
      "metadata": {
        "id": "EhkGPYIC1N-q"
      }
    },
    {
      "cell_type": "code",
      "source": [],
      "metadata": {
        "id": "8heakR4Q1YCK"
      },
      "execution_count": null,
      "outputs": []
    },
    {
      "cell_type": "markdown",
      "source": [
        "4. Change the shape of *list3* to become a 5x4 2D array"
      ],
      "metadata": {
        "id": "Jje62YzY1iVj"
      }
    },
    {
      "cell_type": "code",
      "source": [],
      "metadata": {
        "id": "K3FWuZUj1ufD"
      },
      "execution_count": null,
      "outputs": []
    },
    {
      "cell_type": "markdown",
      "source": [
        "5. Print the shape of this the following 2D array: *list4*"
      ],
      "metadata": {
        "id": "o2KYqHcrC8Rk"
      }
    },
    {
      "cell_type": "code",
      "source": [
        "list4 = [[1,2,3],[4,5,6],[7,8,9]]\n",
        "\n"
      ],
      "metadata": {
        "id": "OECQUcoMDQhT"
      },
      "execution_count": null,
      "outputs": []
    },
    {
      "cell_type": "markdown",
      "source": [
        "## **Pandas**"
      ],
      "metadata": {
        "id": "T7_zqZWWFK-d"
      }
    },
    {
      "cell_type": "markdown",
      "source": [
        "### Formula Sheet for NumPy Library\n",
        "1. **Importing a CSV file:** pd.read_csv('file_path')\n",
        "2. **Displaying first n rows:** table.head(n)\n",
        "3. **Selecting a column:** table['column_name']\n",
        "4. **Changing a DataFrame value:** table.loc[row_index, 'column_name'] = new_value"
      ],
      "metadata": {
        "id": "rJUE8NQxFSj6"
      }
    },
    {
      "cell_type": "code",
      "source": [],
      "metadata": {
        "id": "4vjGCgP7iPRC"
      },
      "execution_count": null,
      "outputs": []
    },
    {
      "cell_type": "markdown",
      "source": [
        "1. Upload the salary.csv file"
      ],
      "metadata": {
        "id": "2MgsW5ywIzXw"
      }
    },
    {
      "cell_type": "code",
      "source": [
        "import pandas as pd"
      ],
      "metadata": {
        "id": "2rsf_cLEIsk4"
      },
      "execution_count": null,
      "outputs": []
    },
    {
      "cell_type": "markdown",
      "source": [
        "2. Import the *salary.csv* file"
      ],
      "metadata": {
        "id": "OKVPau50FysH"
      }
    },
    {
      "cell_type": "code",
      "source": [],
      "metadata": {
        "id": "jM5gKrR6I5yz"
      },
      "execution_count": null,
      "outputs": []
    },
    {
      "cell_type": "markdown",
      "source": [
        "3. Display the first 10 rows of the table"
      ],
      "metadata": {
        "id": "4lJwacSFI6Kv"
      }
    },
    {
      "cell_type": "code",
      "source": [],
      "metadata": {
        "id": "MtuBL3ApI-pO"
      },
      "execution_count": null,
      "outputs": []
    },
    {
      "cell_type": "markdown",
      "source": [
        "4. Select the *Revenue* column and display it"
      ],
      "metadata": {
        "id": "tMvCRjVhI-6j"
      }
    },
    {
      "cell_type": "code",
      "source": [],
      "metadata": {
        "id": "PDizTBB2JDpn"
      },
      "execution_count": null,
      "outputs": []
    },
    {
      "cell_type": "markdown",
      "source": [
        "5. Change the 5th value in the *Revenue* column."
      ],
      "metadata": {
        "id": "4wl-mm8NJD28"
      }
    },
    {
      "cell_type": "code",
      "source": [],
      "metadata": {
        "id": "Ns9f6QS_rsc1"
      },
      "execution_count": null,
      "outputs": []
    },
    {
      "cell_type": "markdown",
      "source": [],
      "metadata": {
        "id": "4W8kHsGvJKWw"
      }
    },
    {
      "cell_type": "markdown",
      "source": [
        "**Submission Guidelines:**\n",
        "\n",
        "1.   You should strictly complete and send the assignment within 30 minutes\n",
        "2.   Compose an email to **s.abozid@aou.edu.eg**\n",
        "3.   The subject of the email should be: **Lab Assignment 1 - Your ID Number**\n",
        "4.   Attach your completed notebook (.ipynb file) to the email.\n",
        "5.   Send the email once you’re ready to submit"
      ],
      "metadata": {
        "id": "iNuAkuh5CfgT"
      }
    }
  ]
}